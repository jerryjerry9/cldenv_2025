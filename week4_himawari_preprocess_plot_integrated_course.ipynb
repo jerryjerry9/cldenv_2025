{
 "cells": [
  {
   "cell_type": "code",
   "execution_count": null,
   "id": "459d9df7-e9bc-4680-8389-d2ebd35dd294",
   "metadata": {},
   "outputs": [],
   "source": [
    "from ael_satellite_tools.preprocess import Himawari as Himawari\n",
    "from ael_satellite_tools.plotting import Himawari as Hima_plot\n"
   ]
  },
  {
   "cell_type": "code",
   "execution_count": null,
   "id": "acca7871-7a41-46ce-ac50-bce352b9f7bf",
   "metadata": {},
   "outputs": [],
   "source": [
    "lat = [-10, 50]\n",
    "lon = [90, 180]\n",
    "data_path = '/data/cloud2025/your_account/data_folder/'"
   ]
  },
  {
   "cell_type": "code",
   "execution_count": null,
   "id": "c11a98cb-fe10-4125-b274-243391cd6ddd",
   "metadata": {},
   "outputs": [],
   "source": [
    "himawari = Himawari(work_path=[],data_path=data_path,lat_range=lat,lon_range=lon)\n",
    "hima_plot = Hima_plot(work_path=[],data_path=data_path,plotting_lat_range=lat,plotting_lon_range=lon)\n"
   ]
  },
  {
   "cell_type": "code",
   "execution_count": null,
   "id": "02dc01dc-db7e-4cd1-a2c6-fc50dec36504",
   "metadata": {},
   "outputs": [],
   "source": [
    "### Set download time period -- 1\n",
    "year = ['2023'] # Year: from 2015\n",
    "mon = ['12']    # Month: 01 02 ... 12\n",
    "day = ['22']    # Day: 01 02 ... 30 31\n",
    "hour = ['04']   # Hour: 00 01 ... 23\n",
    "minn = ['00']    # Minute: 00 10 20 30 40 50\n",
    "### Set download time period -- 2\n",
    "#time_period = ['202312220400','202312240400']\n",
    "#time_delta = ['days=1','hours=0','minutes=0']\n",
    "\n",
    "### Set band type\n",
    "### AHI band number\n",
    "#AHI_band = [1,2,3,4] # 1, 2, 3 ... 16\n",
    "### CEReS band type & number\n",
    "#band = ['VIS']  # band: VIS TIR SIR EXT\n",
    "#band_num = [1]      # band number: 1 2 ... 10\n",
    "### geo data\n",
    "#geo = ['sun.azm', 'sun.zth','sat.azm', 'sat.zth']"
   ]
  },
  {
   "cell_type": "code",
   "execution_count": null,
   "id": "6391027d-11f0-42d6-8194-f8c391a5ef4b",
   "metadata": {},
   "outputs": [],
   "source": [
    "hima_plot.rgb_composite_name()"
   ]
  },
  {
   "cell_type": "code",
   "execution_count": null,
   "id": "61930be4-57d7-487f-af81-4e0a3e2f0587",
   "metadata": {},
   "outputs": [],
   "source": [
    "rgb_product_name = ['True color']"
   ]
  },
  {
   "cell_type": "code",
   "execution_count": null,
   "id": "6094d5b6-e5cc-4114-8212-dc8f25486d12",
   "metadata": {},
   "outputs": [],
   "source": [
    "AHI_band, geo = hima_plot.rgb_attribute(rgb_product_name,band_info_only=True)"
   ]
  },
  {
   "cell_type": "code",
   "execution_count": null,
   "id": "dbb25060-d085-4d88-b889-8bf8129b2267",
   "metadata": {},
   "outputs": [],
   "source": [
    "file_list = []\n",
    "zip_file_list = []\n",
    "ftp_path_file_list = []\n",
    "for band_name in AHI_band:\n",
    "    band, band_num = himawari.band_name_convert(band_name)\n",
    "    tem_file_list, tem_zip_file_list, tem_ftp_path_file_list = \\\n",
    "    himawari.generate_list(time_period=[],time_delta=[],year=year,mon=mon,day=day,\n",
    "                           hour=hour,minn=minn,band=band,band_num=band_num)\n",
    "    file_list.extend(tem_file_list)\n",
    "    zip_file_list.extend(tem_zip_file_list)\n",
    "    ftp_path_file_list.extend(tem_ftp_path_file_list)\n",
    "tem_file_list, tem_zip_file_list, tem_ftp_path_file_list = \\\n",
    "himawari.generate_list(time_period=[],time_delta=[],year=year,mon=mon,day=day,\n",
    "                       hour=hour,minn=minn,geo=geo,band4km=[])\n",
    "file_list.extend(tem_file_list)\n",
    "zip_file_list.extend(tem_zip_file_list)\n",
    "ftp_path_file_list.extend(tem_ftp_path_file_list)"
   ]
  },
  {
   "cell_type": "code",
   "execution_count": null,
   "id": "9646d4d5-6699-4e1c-a9a1-dfa739193cb3",
   "metadata": {},
   "outputs": [],
   "source": [
    "himawari.pre_process(ftp_path_file_list,remove_list_flag=True)"
   ]
  },
  {
   "cell_type": "code",
   "execution_count": null,
   "id": "75236e01-8525-48cc-a503-1a47ff9953c8",
   "metadata": {},
   "outputs": [],
   "source": [
    "AHI_band,geo,band_method,\\\n",
    "r_functions,g_functions,b_functions,rs_channel,\\\n",
    "min_threshold,max_threshold,reverse_flag,\\\n",
    "gamma,self_enh_flag = hima_plot.rgb_attribute(rgb_product_name)"
   ]
  },
  {
   "cell_type": "code",
   "execution_count": null,
   "id": "c395317d-2995-40fa-8510-3eaa054c44e1",
   "metadata": {},
   "outputs": [],
   "source": [
    "time_list = hima_plot.generate_time_list(time_period=[],time_delta=[],\n",
    "                                         year=year,mon=mon,day=day,hour=hour,minn=minn)"
   ]
  },
  {
   "cell_type": "code",
   "execution_count": null,
   "id": "4ab396ad-63d2-40f1-8f69-494cb63cd8eb",
   "metadata": {},
   "outputs": [],
   "source": [
    "reduce_local_adjust_angle=78\n",
    "reduce_high_zenith_adjust = True\n",
    "reduce_rs_corr_angle=78\n",
    "reduce_rs_corr_strength=1\n",
    "reduce_rayleigh_corr = True\n",
    "ta_resolution = 2\n",
    "self_gamma=None\n",
    "profile_ID=0\n",
    "self_defined_profile=None\n",
    "self_defined_enhance=None"
   ]
  },
  {
   "cell_type": "code",
   "execution_count": null,
   "id": "3460042d-101d-4711-93a4-7b92ed7a2764",
   "metadata": {},
   "outputs": [],
   "source": [
    "rgb_array, plotting_lon, plotting_lat, avaiable_time_list = \\\n",
    "hima_plot.rgb_composite(time_list, rgb_product_name, ta_resolution=2, plotting_info=True,\n",
    "                        reduce_local_adjust_angle=78, reduce_high_zenith_adjust=True,\n",
    "                        reduce_rs_corr_angle=78, reduce_rs_corr_strength=1, reduce_rayleigh_corr = True,\n",
    "                        hybrid_data2_ratio=0.07,\n",
    "                        self_gamma=None,profile_ID=0,self_defined_profile=None,self_defined_enhance=None)"
   ]
  },
  {
   "cell_type": "code",
   "execution_count": null,
   "id": "09509409-776c-4c9e-a5d3-909790308042",
   "metadata": {},
   "outputs": [],
   "source": [
    "hima_plot.generate_rgb_nc_file(avaiable_time_list,plotting_lon,plotting_lat,ta_resolution,\n",
    "                               rgb_product_name,rgb_array=rgb_array,domain_name=[],nc_output=True)"
   ]
  },
  {
   "cell_type": "code",
   "execution_count": null,
   "id": "dc87538a-643e-4058-96a7-e9ce8dd589db",
   "metadata": {},
   "outputs": [],
   "source": [
    "hima_plot.generate_rgb_figure(rgb_array, plotting_lon, plotting_lat,\n",
    "                              figure_name=rgb_product_name, time_list=avaiable_time_list,\n",
    "                              coast_line_color='gold', lonlat_step=4, font_size=22, \n",
    "                              prefix='rgb_figure', dpi=100, figure_path='himawari_figure', save_fig=True)"
   ]
  },
  {
   "cell_type": "code",
   "execution_count": null,
   "id": "7e92b232-c0bb-40c2-a42f-5a72c693f89c",
   "metadata": {},
   "outputs": [],
   "source": [
    "rgb,plotting_lon_list,plotting_lat_list,output_file_list =\\\n",
    "hima_plot.read_rgb_nc_file(full_path_rgb_file_list)"
   ]
  }
 ],
 "metadata": {
  "kernelspec": {
   "display_name": "Python 3 (ipykernel)",
   "language": "python",
   "name": "python3"
  },
  "language_info": {
   "codemirror_mode": {
    "name": "ipython",
    "version": 3
   },
   "file_extension": ".py",
   "mimetype": "text/x-python",
   "name": "python",
   "nbconvert_exporter": "python",
   "pygments_lexer": "ipython3",
   "version": "3.12.5"
  }
 },
 "nbformat": 4,
 "nbformat_minor": 5
}
