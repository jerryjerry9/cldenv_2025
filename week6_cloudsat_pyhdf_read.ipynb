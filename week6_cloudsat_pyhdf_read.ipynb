{
 "cells": [
  {
   "cell_type": "code",
   "execution_count": 4,
   "id": "f16f67d0-41f0-4ce5-be40-a23ca5d46545",
   "metadata": {},
   "outputs": [],
   "source": [
    "from pyhdf.HDF import HDF, HC\n",
    "from pyhdf import V\n",
    "from pyhdf.SD  import SD, SDC\n"
   ]
  },
  {
   "cell_type": "code",
   "execution_count": 5,
   "id": "54e75874-89bb-4f80-915f-3771b198ae34",
   "metadata": {},
   "outputs": [],
   "source": [
    "geoprof_file = ['/data/dadm1/obs/CloudSat/hdf-GEOPROF/2016/2016359034029_56694_CS_2B-GEOPROF_GRANULE_P1_R05_E06_F01.hdf']"
   ]
  },
  {
   "cell_type": "code",
   "execution_count": 6,
   "id": "8eb24155-3d0b-416c-b7f0-95bc7fb9570d",
   "metadata": {},
   "outputs": [],
   "source": [
    "### read Vector data variable list\n",
    "reading_vdata = HDF(geoprof_file[0], HC.READ).vstart()\n",
    "vdata_list = reading_vdata.vdatainfo()"
   ]
  },
  {
   "cell_type": "code",
   "execution_count": 7,
   "id": "5398b5b7-3e8a-4016-a9b6-dd8b887a2bc9",
   "metadata": {},
   "outputs": [
    {
     "data": {
      "text/plain": [
       "[('Profile_time', '', 7, 37082, 1, 0, 4, 1962, 0),\n",
       " ('UTC_start', '', 8, 1, 1, 0, 4, 1962, 0),\n",
       " ('TAI_start', '', 9, 1, 1, 0, 8, 1962, 0),\n",
       " ('Latitude', '', 10, 37082, 1, 0, 4, 1962, 0),\n",
       " ('Longitude', '', 11, 37082, 1, 0, 4, 1962, 0),\n",
       " ('Range_to_intercept', '', 13, 37082, 1, 0, 4, 1962, 0),\n",
       " ('DEM_elevation', '', 14, 37082, 1, 0, 2, 1962, 0),\n",
       " ('Vertical_binsize', '', 15, 1, 1, 0, 4, 1962, 0),\n",
       " ('Pitch_offset', '', 16, 1, 1, 0, 4, 1962, 0),\n",
       " ('Roll_offset', '', 17, 1, 1, 0, 4, 1962, 0),\n",
       " ('Data_quality', '', 18, 37082, 1, 0, 1, 1962, 0),\n",
       " ('Data_status', '', 19, 37082, 1, 0, 2, 1962, 0),\n",
       " ('Data_targetID', '', 20, 37082, 1, 0, 1, 1962, 0),\n",
       " ('RayStatus_validity', '', 21, 37082, 1, 0, 1, 1962, 0),\n",
       " ('SurfaceHeightBin', '', 22, 37082, 1, 0, 1, 1962, 0),\n",
       " ('SurfaceHeightBin_fraction', '', 23, 37082, 1, 0, 4, 1962, 0),\n",
       " ('Sigma-Zero', '', 30, 37082, 1, 0, 2, 1962, 0),\n",
       " ('MODIS_cloud_flag', '', 31, 37082, 1, 0, 1, 1962, 0),\n",
       " ('MODIS_Cloud_Fraction', '', 32, 37082, 1, 0, 1, 1962, 0),\n",
       " ('MODIS_scene_char', '', 33, 37082, 1, 0, 1, 1962, 0),\n",
       " ('MODIS_scene_var', '', 34, 37082, 1, 0, 1, 1962, 0),\n",
       " ('CPR_Echo_Top', '', 35, 37082, 1, 0, 1, 1962, 0),\n",
       " ('sem_NoiseFloor', '', 36, 37082, 1, 0, 4, 1962, 0),\n",
       " ('sem_NoiseFloorVar', '', 37, 37082, 1, 0, 4, 1962, 0),\n",
       " ('sem_NoiseGate', '', 38, 37082, 1, 0, 1, 1962, 0),\n",
       " ('Navigation_land_sea_flag', '', 39, 37082, 1, 0, 1, 1962, 0),\n",
       " ('Clutter_reduction_flag', '', 40, 37082, 1, 0, 1, 1962, 0),\n",
       " ('sem_MDSignal', '', 41, 37082, 1, 0, 4, 1962, 0),\n",
       " ('nray:2B-GEOPROF', 'DimVal0.1', 247, 1, 1, 0, 4, 1962, 0),\n",
       " ('nbin:2B-GEOPROF', 'DimVal0.1', 249, 1, 1, 0, 4, 1962, 0)]"
      ]
     },
     "execution_count": 7,
     "metadata": {},
     "output_type": "execute_result"
    }
   ],
   "source": [
    "vdata_list"
   ]
  },
  {
   "cell_type": "code",
   "execution_count": 12,
   "id": "c717082d-6d9e-4fd3-943a-a48b789e8780",
   "metadata": {},
   "outputs": [],
   "source": [
    "### read Vector data \n",
    "reading_vdata = HDF(geoprof_file[0], HC.READ).vstart()\n",
    "vdata_list = reading_vdata.vdatainfo()\n",
    "target_vdata = 'Latitude'\n",
    "for ref in vdata_list:\n",
    "    vdata_name = ref[0]\n",
    "    if vdata_name == target_vdata:\n",
    "        vdata_length = ref[3]\n",
    "        Var_data = reading_vdata.attach(target_vdata)\n",
    "        var_data = Var_data.read(vdata_length)\n",
    "        Var_data.detach()\n",
    "        break\n",
    "reading_vdata.end()\n"
   ]
  },
  {
   "cell_type": "code",
   "execution_count": 13,
   "id": "d9acd5cf-433c-4c22-9ca7-4a528f267985",
   "metadata": {},
   "outputs": [],
   "source": [
    "### read Scientific Data variable list\n",
    "hdfFile = SD(geoprof_file[0], SDC.READ)\n",
    "dsets = hdfFile.datasets()"
   ]
  },
  {
   "cell_type": "code",
   "execution_count": 14,
   "id": "20c10163-e13d-443b-9e57-f86660ca7234",
   "metadata": {},
   "outputs": [
    {
     "data": {
      "text/plain": [
       "{'Height': (('nray:2B-GEOPROF', 'nbin:2B-GEOPROF'), (37082, 125), 22, 0),\n",
       " 'CPR_Cloud_mask': (('nray:2B-GEOPROF', 'nbin:2B-GEOPROF'),\n",
       "  (37082, 125),\n",
       "  20,\n",
       "  1),\n",
       " 'Gaseous_Attenuation': (('nray:2B-GEOPROF', 'nbin:2B-GEOPROF'),\n",
       "  (37082, 125),\n",
       "  22,\n",
       "  2),\n",
       " 'Radar_Reflectivity': (('nray:2B-GEOPROF', 'nbin:2B-GEOPROF'),\n",
       "  (37082, 125),\n",
       "  22,\n",
       "  3)}"
      ]
     },
     "execution_count": 14,
     "metadata": {},
     "output_type": "execute_result"
    }
   ],
   "source": [
    "dsets"
   ]
  },
  {
   "cell_type": "code",
   "execution_count": 15,
   "id": "2dd4c1c1-ff7c-4119-86e1-336fae6d0425",
   "metadata": {},
   "outputs": [
    {
     "data": {
      "text/plain": [
       "<bound method SD.end of <pyhdf.SD.SD object at 0x7f470f3f7f20>>"
      ]
     },
     "execution_count": 15,
     "metadata": {},
     "output_type": "execute_result"
    }
   ],
   "source": [
    "\n",
    "### read Scientific Data\n",
    "hdfFile = SD(geoprof_file[0], SDC.READ)\n",
    "Var_data = hdfFile.select('Radar_Reflectivity')\n",
    "var_data = Var_data[:]\n",
    "hdfFile.end\n"
   ]
  },
  {
   "cell_type": "code",
   "execution_count": null,
   "id": "49ef8dee-27e9-43a6-8fc0-ed4369c1b5a5",
   "metadata": {},
   "outputs": [],
   "source": []
  }
 ],
 "metadata": {
  "kernelspec": {
   "display_name": "Python 3 (ipykernel)",
   "language": "python",
   "name": "python3"
  },
  "language_info": {
   "codemirror_mode": {
    "name": "ipython",
    "version": 3
   },
   "file_extension": ".py",
   "mimetype": "text/x-python",
   "name": "python",
   "nbconvert_exporter": "python",
   "pygments_lexer": "ipython3",
   "version": "3.12.5"
  }
 },
 "nbformat": 4,
 "nbformat_minor": 5
}
