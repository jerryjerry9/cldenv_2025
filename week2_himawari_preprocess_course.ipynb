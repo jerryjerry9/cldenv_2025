{
 "cells": [
  {
   "cell_type": "code",
   "execution_count": 140,
   "id": "3d5af389-9c8a-40fe-b860-38b88eacb630",
   "metadata": {},
   "outputs": [],
   "source": [
    "from ael_satellite_tools.preprocess import Himawari\n",
    "import matplotlib.pyplot as plt\n",
    "import numpy as np"
   ]
  },
  {
   "cell_type": "code",
   "execution_count": 141,
   "id": "3bd1742c-6062-4f0b-968a-e20efc32008b",
   "metadata": {},
   "outputs": [],
   "source": [
    "lat = [-10, 50]\n",
    "lon = [90, 180]\n",
    "data_path = '/data/cloud2025/your_account/data_folder/'"
   ]
  },
  {
   "cell_type": "code",
   "execution_count": 1,
   "id": "cd71c4dd-1e79-4a59-a57e-2b22bd1283d9",
   "metadata": {},
   "outputs": [],
   "source": [
    "himawari = Himawari(data_path=data_path,lat_range=lat,lon_range=lon)\n",
    "print(himawari.lat_range)\n",
    "print(himawari.lon_range)\n",
    "print(himawari.data_path)"
   ]
  },
  {
   "cell_type": "code",
   "execution_count": 2,
   "id": "d75eed4d-7cc5-4d21-b525-de88dc9e1a3c",
   "metadata": {},
   "outputs": [],
   "source": [
    "himawari.information(detail=False)"
   ]
  },
  {
   "cell_type": "code",
   "execution_count": 219,
   "id": "c48abac1-6797-48de-803e-7b2a6f869e57",
   "metadata": {},
   "outputs": [],
   "source": [
    "### Set download time period -- 1\n",
    "year = ['2025']      # Year: from 2015\n",
    "mon = ['02']         # Month: 01 02 ... 12\n",
    "day = ['08']         # Day: 01 02 ... 30 31\n",
    "hour = ['03']        # Hour: 00 01 ... 23\n",
    "minn = ['00']        # Minute: 00 10 20 30 40 50\n",
    "### Set download time period -- 2\n",
    "time_period = ['201901231200','201901250000']\n",
    "time_delta=['days=0','hours=5','minutes=0']\n",
    "# Set band type\n",
    "band = ['EXT','VIS','TIR']  # band: VIS TIR SIR EXT\n",
    "band_num = [1]              # band number: 1 2 ... 10\n",
    "geo = []                    # ['sun.azm', 'sun.zth','sat.azm', 'sat.zth']"
   ]
  },
  {
   "cell_type": "code",
   "execution_count": 221,
   "id": "9c7584e0-893b-43b3-92d1-207a2b667773",
   "metadata": {},
   "outputs": [],
   "source": [
    "file_list, zip_file_list, ftp_path_file_list = himawari.generate_list(time_period=[], time_delta=[], year=year, mon=mon, day=day, \n",
    "                                                                      hour=hour, minn=minn, band=band, band_num=band_num, geo=geo)"
   ]
  },
  {
   "cell_type": "code",
   "execution_count": 4,
   "id": "35d9bebc-fa18-4c03-9646-0ab0f13a1293",
   "metadata": {},
   "outputs": [],
   "source": [
    "#himawari.check_exist_sub_domain_file(ftp_path_file_list, remove_list_flag=True, extend_lonlat_range=True)"
   ]
  },
  {
   "cell_type": "code",
   "execution_count": 5,
   "id": "47a15e64-1945-4a84-9682-20e8708299c5",
   "metadata": {},
   "outputs": [],
   "source": [
    "output_file_list = himawari.download(ftp_path_file_list, download_flag=True)"
   ]
  },
  {
   "cell_type": "code",
   "execution_count": 6,
   "id": "a975c6eb-00cb-46fd-8fa7-b988c1e30586",
   "metadata": {},
   "outputs": [],
   "source": [
    "output_file_list, data_array = himawari.unzip(output_file_list)"
   ]
  },
  {
   "cell_type": "code",
   "execution_count": 7,
   "id": "e093ef9e-832a-42ad-b8f8-862706605935",
   "metadata": {},
   "outputs": [],
   "source": [
    "output_file_list, np_binary_data = himawari.read_binary(output_file_list, data_array, binary_type=[])"
   ]
  },
  {
   "cell_type": "code",
   "execution_count": 8,
   "id": "996608b6-e017-4639-95cb-7a7a3122f2e1",
   "metadata": {},
   "outputs": [],
   "source": [
    "band_tbb = himawari.convert(output_file_list, np_binary_data)"
   ]
  },
  {
   "cell_type": "code",
   "execution_count": 11,
   "id": "401fdaf2-8887-4783-96dc-fc01784d4d70",
   "metadata": {},
   "outputs": [],
   "source": [
    "#himawari.generate_binary(file_name,data_array)"
   ]
  },
  {
   "cell_type": "code",
   "execution_count": 9,
   "id": "05738e94-b90a-4fcd-b8c4-743779856a72",
   "metadata": {},
   "outputs": [],
   "source": [
    "sub_band_tbb, sub_lon, sub_lat = himawari.sub_domain_extract(band_tbb)"
   ]
  },
  {
   "cell_type": "code",
   "execution_count": 10,
   "id": "587a1b30-4beb-4858-b777-f5a4757dabe0",
   "metadata": {},
   "outputs": [],
   "source": [
    "himawari.generate_nc(output_file_list, sub_band_tbb, sub_lon, sub_lat, nc_output=True)"
   ]
  }
 ],
 "metadata": {
  "kernelspec": {
   "display_name": "Python 3 (ipykernel)",
   "language": "python",
   "name": "python3"
  },
  "language_info": {
   "codemirror_mode": {
    "name": "ipython",
    "version": 3
   },
   "file_extension": ".py",
   "mimetype": "text/x-python",
   "name": "python",
   "nbconvert_exporter": "python",
   "pygments_lexer": "ipython3",
   "version": "3.12.5"
  }
 },
 "nbformat": 4,
 "nbformat_minor": 5
}
