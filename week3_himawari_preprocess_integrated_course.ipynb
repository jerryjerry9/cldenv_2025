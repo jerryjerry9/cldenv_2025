{
 "cells": [
  {
   "cell_type": "code",
   "execution_count": 10,
   "id": "ea4fe0b3-8d91-4f10-b74d-404c668f06cd",
   "metadata": {},
   "outputs": [],
   "source": [
    "from ael_satellite_tools.preprocess import Himawari"
   ]
  },
  {
   "cell_type": "code",
   "execution_count": 11,
   "id": "51600580-a726-411d-bf84-49fde6db37dc",
   "metadata": {},
   "outputs": [],
   "source": [
    "lat = [-10, 50]\n",
    "lon = [90, 180]\n",
    "data_path = '/data/cloud2025/your_account/data_folder/'"
   ]
  },
  {
   "cell_type": "code",
   "execution_count": 12,
   "id": "30451e60-75f3-4c7c-b197-9af9ddfabd10",
   "metadata": {},
   "outputs": [],
   "source": [
    "himawari = Himawari(data_path=data_path,lat_range=lat,lon_range=lon)"
   ]
  },
  {
   "cell_type": "code",
   "execution_count": 32,
   "id": "a1ff2d8e-651b-459f-bff7-2d30ade39817",
   "metadata": {},
   "outputs": [],
   "source": [
    "### Set download time period -- 1\n",
    "year = ['2025'] # Year: from 2015\n",
    "mon = ['02']    # Month: 01 02 ... 12\n",
    "day = ['08']    # Day: 01 02 ... 30 31\n",
    "hour = ['03']   # Hour: 00 01 ... 23\n",
    "minn = ['00']    # Minute: 00 10 20 30 40 50\n",
    "### Set download time period -- 2\n",
    "time_period = ['201901231200','201901250000']\n",
    "time_delta = ['days=0','hours=5','minutes=0']\n",
    "time_period = []\n",
    "time_delta= []\n",
    "# Set band type\n",
    "band = ['TIR']  # band: VIS TIR SIR EXT\n",
    "band_num = [1]      # band number: 1 2 ... 10\n",
    "geo = ['sun.azm', 'sun.zth','sat.azm', 'sat.zth']"
   ]
  },
  {
   "cell_type": "code",
   "execution_count": 33,
   "id": "224772d2-a7a7-49f5-aeb3-4730a5ea5e7b",
   "metadata": {},
   "outputs": [],
   "source": [
    "#band, band_num = himawari.band_name_convert(AHI_band)\n",
    "#print(band,band_num)"
   ]
  },
  {
   "cell_type": "code",
   "execution_count": 34,
   "id": "c8a45dd3-1a7e-42a8-b9a1-a1d286179ed5",
   "metadata": {},
   "outputs": [],
   "source": [
    "time_list = himawari.generate_time_list(time_period=time_period,time_delta=time_delta,\n",
    "                                        year=year,mon=mon,day=day,hour=hour,minn=minn)\n",
    "print(time_list)"
   ]
  },
  {
   "cell_type": "code",
   "execution_count": 36,
   "id": "3f7dd23d-72b1-40ce-9fbf-66bad9ebd644",
   "metadata": {},
   "outputs": [],
   "source": [
    "file_list, zip_file_list, ftp_path_file_list = \\\n",
    "                himawari.generate_list(time_period=time_period,time_delta=time_delta,\n",
    "                                        year=year,mon=mon,day=day,hour=hour,minn=minn,\n",
    "                                        band=band,band_num=band_num,geo=geo,band4km=[])"
   ]
  },
  {
   "cell_type": "code",
   "execution_count": 38,
   "id": "5021c2d8-8267-4a30-b063-619479614d90",
   "metadata": {},
   "outputs": [],
   "source": [
    "for k in file_list:\n",
    "    print(k)"
   ]
  },
  {
   "cell_type": "code",
   "execution_count": 18,
   "id": "d5e04280-a1f3-4652-82e4-1d3899262f0c",
   "metadata": {},
   "outputs": [],
   "source": [
    "# integrate from himawari.check_exist_sub_domain_file to himawari.generate_nc\n",
    "himawari.pre_process(ftp_path_file_list,remove_list_flag=True)"
   ]
  }
 ],
 "metadata": {
  "kernelspec": {
   "display_name": "Python 3 (ipykernel)",
   "language": "python",
   "name": "python3"
  },
  "language_info": {
   "codemirror_mode": {
    "name": "ipython",
    "version": 3
   },
   "file_extension": ".py",
   "mimetype": "text/x-python",
   "name": "python",
   "nbconvert_exporter": "python",
   "pygments_lexer": "ipython3",
   "version": "3.12.5"
  }
 },
 "nbformat": 4,
 "nbformat_minor": 5
}
