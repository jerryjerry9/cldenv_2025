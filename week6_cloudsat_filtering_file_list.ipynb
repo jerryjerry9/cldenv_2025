{
 "cells": [
  {
   "cell_type": "code",
   "execution_count": null,
   "id": "e70dcd45-fd23-42c5-994d-4715e9e113c9",
   "metadata": {},
   "outputs": [],
   "source": [
    "from ael_satellite_tools.preprocess import CloudSat"
   ]
  },
  {
   "cell_type": "code",
   "execution_count": null,
   "id": "01a2e782-3ed8-4cb8-8a26-06288c9e31d4",
   "metadata": {},
   "outputs": [],
   "source": [
    "lat = [-10, 60]\n",
    "lon = [90, 150]\n",
    "cloudsat = CloudSat(work_path=[],lat_range=lat,lon_range=lon)"
   ]
  },
  {
   "cell_type": "code",
   "execution_count": null,
   "id": "13e1b618-616c-4932-b23a-731e2a7f79a3",
   "metadata": {},
   "outputs": [],
   "source": [
    "### Set searching time period \n",
    "time_period = ['2016122000','2016122124']"
   ]
  },
  {
   "cell_type": "code",
   "execution_count": null,
   "id": "8b2772af-fe59-49f9-a89e-2a19fd4205de",
   "metadata": {},
   "outputs": [],
   "source": [
    "product_name = 'hdf-GEOPROF'\n",
    "full_path_file_list_geo = cloudsat.generate_list(product_name, time_period)"
   ]
  },
  {
   "cell_type": "code",
   "execution_count": null,
   "id": "63367178-0530-4cab-97c3-6840a60bbbe7",
   "metadata": {},
   "outputs": [],
   "source": [
    "product_name = 'hdf-GEOPROF-LIDAR'\n",
    "full_path_file_list_lidar = cloudsat.generate_list(product_name, time_period)"
   ]
  },
  {
   "cell_type": "code",
   "execution_count": null,
   "id": "85a80060-5b8b-4eda-b7ae-70aabad8f566",
   "metadata": {},
   "outputs": [],
   "source": [
    "match_file_list_geo,match_file_list_lidar = cloudsat.cross_product_match(full_path_file_list_geo,\n",
    "                                                                         full_path_file_list_lidar)"
   ]
  },
  {
   "cell_type": "code",
   "execution_count": null,
   "id": "4a97b98e-a2dd-4323-9e37-3bf5c2abde06",
   "metadata": {},
   "outputs": [],
   "source": [
    "sub_domain_geo = cloudsat.sub_domain_check(match_file_list_geo,mask_output=False)\n",
    "sub_domain_lidar = cloudsat.sub_domain_check(match_file_list_lidar,mask_output=False)"
   ]
  },
  {
   "cell_type": "code",
   "execution_count": null,
   "id": "a9fba3af-8ce2-4b62-9eb9-2d3d3cf61c9e",
   "metadata": {},
   "outputs": [],
   "source": [
    "label = True\n",
    "cloudsat.plot_track(sub_domain_geo,coast_line_color='olive',\n",
    "                    lonlat_step=4,font_size=24,loc='left',pad=40,\n",
    "                    figure_title='CloudSat Track Demo', \n",
    "                    prefix='cloudsat_track_demo', figure_path='cloudsat_fig', dpi=300,\n",
    "                    granule_label=False,id_label=label,date_label=label,utc_label=label,save_fig=True)"
   ]
  }
 ],
 "metadata": {
  "kernelspec": {
   "display_name": "Python 3 (ipykernel)",
   "language": "python",
   "name": "python3"
  },
  "language_info": {
   "codemirror_mode": {
    "name": "ipython",
    "version": 3
   },
   "file_extension": ".py",
   "mimetype": "text/x-python",
   "name": "python",
   "nbconvert_exporter": "python",
   "pygments_lexer": "ipython3",
   "version": "3.12.5"
  }
 },
 "nbformat": 4,
 "nbformat_minor": 5
}
