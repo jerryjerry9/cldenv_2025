{
 "cells": [
  {
   "cell_type": "code",
   "execution_count": null,
   "id": "71db78d2-d1d8-4560-b78e-501cb3016fd7",
   "metadata": {},
   "outputs": [],
   "source": [
    "import numpy as np\n",
    "from ael_satellite_tools.preprocess import CloudSat\n",
    "from ael_satellite_tools.plotting import Himawari"
   ]
  },
  {
   "cell_type": "code",
   "execution_count": null,
   "id": "c2b8de6c-8e31-442f-9790-f7c6fae75ad6",
   "metadata": {},
   "outputs": [],
   "source": [
    "lat = [-10, 60]\n",
    "lon = [90, 150]"
   ]
  },
  {
   "cell_type": "code",
   "execution_count": null,
   "id": "d7c274d2-e056-42f9-99ae-30a44bc9b345",
   "metadata": {},
   "outputs": [],
   "source": [
    "data_path = '/data/cloud2025/temporary_data'\n",
    "hima_plot = Himawari(work_path=[],data_path=data_path,plotting_lat_range=lat,plotting_lon_range=lon)"
   ]
  },
  {
   "cell_type": "code",
   "execution_count": null,
   "id": "28d3b536-0648-48e6-9389-5ff48335707d",
   "metadata": {},
   "outputs": [],
   "source": [
    "cloudsat = CloudSat(work_path=[],lat_range=lat,lon_range=lon)"
   ]
  },
  {
   "cell_type": "code",
   "execution_count": null,
   "id": "626c3207-3b35-4d9e-af39-346d441c2e40",
   "metadata": {},
   "outputs": [],
   "source": [
    "cloudsat.product_list()"
   ]
  },
  {
   "cell_type": "code",
   "execution_count": null,
   "id": "38e5ef49-0436-40d3-b8b1-55fa02a41fc5",
   "metadata": {},
   "outputs": [],
   "source": [
    "geoprof_file = ['/data/dadm1/obs/CloudSat/hdf-GEOPROF/2016/2016359034029_56694_CS_2B-GEOPROF_GRANULE_P1_R05_E06_F01.hdf']\n",
    "geoprof_lid_file = ['/data/dadm1/obs/CloudSat/hdf-GEOPROF-LIDAR/2016/2016359034029_56694_CS_2B-GEOPROF-LIDAR_GRANULE_P2_R05_E06_F01.hdf']"
   ]
  },
  {
   "cell_type": "code",
   "execution_count": null,
   "id": "f8c1e5d6-ecc9-4fc6-9896-eda850351b75",
   "metadata": {},
   "outputs": [],
   "source": [
    "Vdata_name,Vdata_len,SD_name = cloudsat.hdf_information(geoprof_file)\n",
    "\n",
    "for i in range(0,5):\n",
    "    print(Vdata_name[i],Vdata_len[i])\n",
    "print(SD_name)"
   ]
  },
  {
   "cell_type": "code",
   "execution_count": null,
   "id": "71418a17-25fc-4dff-8f09-10f31c41b184",
   "metadata": {},
   "outputs": [],
   "source": [
    "factor, missing_value = cloudsat.cloudsat_var_attribute('Radar_Reflectivity')\n",
    "print(factor, missing_value)"
   ]
  },
  {
   "cell_type": "code",
   "execution_count": null,
   "id": "0114caf5-b1e5-466a-abcd-c682b5069604",
   "metadata": {},
   "outputs": [],
   "source": [
    "### read ori data\n",
    "ori_lon_list = cloudsat.read_ori_vdata(extracted_geo,'Longitude')\n",
    "ori_ref_list = cloudsat.read_ori_sddata(extracted_geo,'Radar_Reflectivity')\n",
    "### read ori data"
   ]
  },
  {
   "cell_type": "code",
   "execution_count": null,
   "id": "56f888c6-570f-4311-b096-1ec25c85ce85",
   "metadata": {},
   "outputs": [],
   "source": [
    "### your rgb data path\n",
    "rgb_file = ['/data/cloud2025/temporary_data/rgb*.nc']\n",
    "###\n",
    "rgb_array,plotting_lon_list,plotting_lat_list,output_file_list  = hima_plot.read_rgb_nc_file(rgb_file)"
   ]
  },
  {
   "cell_type": "code",
   "execution_count": null,
   "id": "89106926-97bd-45d9-8a53-5bf6c75a165a",
   "metadata": {},
   "outputs": [],
   "source": [
    "cloudsat.plot_track_w_rgb(geoprof_file[0],rgb_array[0],\n",
    "                          plotting_lon_list,plotting_lat_list,\n",
    "                          coast_line_color='gold',\n",
    "                          lonlat_c='w',lonlat_width=1,lonlat_order=2,\n",
    "                          lonlat_step=8,font_size=24,\n",
    "                          figure_title='CloudSat Track',\n",
    "                          rgb_product='True Color',\n",
    "                          rgb_time='04:30UTC',\n",
    "                          prefix='cloudsat_track_w_truecolor',\n",
    "                          dpi=300, figure_path='cloudsat_fig',save_fig=True)\n"
   ]
  },
  {
   "cell_type": "code",
   "execution_count": null,
   "id": "28b13667-a6f0-46d3-b933-0fbd01ae2dc6",
   "metadata": {},
   "outputs": [],
   "source": [
    "target_lon_range = [90, 150]\n",
    "target_lat_range = [15, 30]"
   ]
  },
  {
   "cell_type": "code",
   "execution_count": null,
   "id": "536f5f17-4b81-4ee8-9aee-91f691f98bea",
   "metadata": {},
   "outputs": [],
   "source": [
    "#product_name = 'hdf-GEOPROF', 'hdf-GEOPROF-LIDAR'\n",
    "extracted_geo,extracted_mask_geo = \\\n",
    "cloudsat.sub_domain_check(geoprof_file,target_lon_range,\n",
    "                          target_lat_range,mask_output=True)\n",
    "extracted_lid,extracted_mask_lid = \\\n",
    "cloudsat.sub_domain_check(geoprof_lid_file,target_lon_range,\n",
    "                          target_lat_range,mask_output=True)"
   ]
  },
  {
   "cell_type": "code",
   "execution_count": null,
   "id": "4ac7670c-c6bf-472c-ac05-1fa50f5abfd3",
   "metadata": {},
   "outputs": [],
   "source": [
    "# read geoprof vdata\n",
    "extracted_lon = cloudsat.read_vdata(extracted_geo,'Longitude',\n",
    "                                    extracted_mask_geo,fit_era5_lon=True)\n",
    "extracted_lat = cloudsat.read_vdata(extracted_geo,'Latitude',\n",
    "                                    extracted_mask_geo)"
   ]
  },
  {
   "cell_type": "code",
   "execution_count": null,
   "id": "f1f2e342-165c-4664-891e-80b4c3d3d9ab",
   "metadata": {},
   "outputs": [],
   "source": [
    "# read geoprof sddate\n",
    "extracted_ref = cloudsat.read_sddata(extracted_geo,'Radar_Reflectivity',\n",
    "                                     extracted_mask_geo)\n",
    "extracted_CPR_cldmask = cloudsat.read_sddata(extracted_geo,'CPR_Cloud_mask',\n",
    "                                             extracted_mask_geo)\n",
    "extracted_height = cloudsat.read_sddata(extracted_geo,'Height',\n",
    "                                        extracted_mask_geo)"
   ]
  },
  {
   "cell_type": "code",
   "execution_count": null,
   "id": "22740f65-9eae-4450-b375-efb31a6eb5db",
   "metadata": {},
   "outputs": [],
   "source": [
    "# read geoprof-lidar sddate\n",
    "extracted_cfraction = cloudsat.read_sddata(extracted_lid,'CloudFraction',\n",
    "                                           extracted_mask_lid)\n",
    "\n",
    "extracted_uncf = cloudsat.read_sddata(extracted_lid,'UncertaintyCF',\n",
    "                                      extracted_mask_lid)"
   ]
  },
  {
   "cell_type": "code",
   "execution_count": null,
   "id": "a0ecdab9-2c3f-43be-a68d-cbfe35174134",
   "metadata": {},
   "outputs": [],
   "source": [
    "extracted_cfraction[0][extracted_uncf[0]<=0] = np.nan\n",
    "extracted_ref[0][extracted_ref[0]==-88.88] = np.nan\n",
    "extracted_ref[0][extracted_CPR_cldmask[0]<19.5] = np.nan\n"
   ]
  },
  {
   "cell_type": "code",
   "execution_count": null,
   "id": "6783d559-81b7-4757-b2b8-f528ee46894c",
   "metadata": {},
   "outputs": [],
   "source": [
    "extracted_hdf_date,extracted_hdf_id,extracted_hdf_granule, \\\n",
    "extracted_region_start_time,extracted_region_end_time \\\n",
    "= cloudsat.read_geometric_info(extracted_geo, extracted_mask_geo)"
   ]
  },
  {
   "cell_type": "code",
   "execution_count": null,
   "id": "46e2103a-e764-491d-89cd-deaf1f464399",
   "metadata": {},
   "outputs": [],
   "source": [
    "cloudsat.plot_profile(extracted_ref,extracted_cfraction,'contourf',\n",
    "                      extracted_lat,5,extracted_height,[0,20],5,\n",
    "                      extracted_hdf_date,extracted_hdf_granule,\n",
    "                      extracted_region_start_time,extracted_region_end_time,\n",
    "                      figure_title='CloudSat Profile',\n",
    "                      prefix='cldsat_prof',figure_path='cloudsat_fig',\n",
    "                      dpi=300,save_fig=True)\n"
   ]
  },
  {
   "cell_type": "code",
   "execution_count": null,
   "id": "e95051ea-8fc0-48a2-8b5b-9e7d12d097fa",
   "metadata": {},
   "outputs": [],
   "source": [
    "cloudsat.plot_track_w_rgb(geoprof_file[0],rgb_array[0],\n",
    "                          plotting_lon_list,plotting_lat_list,\n",
    "                          extracted_lon,extracted_lat,\n",
    "                          extracted_hdf_date,extracted_hdf_id,extracted_hdf_granule,\n",
    "                          extracted_region_start_time,extracted_region_end_time,\n",
    "                          extracted_time=False,coast_line_color='gold',\n",
    "                          lonlat_c='w',lonlat_width=1,lonlat_order=2,\n",
    "                          lonlat_step=8,font_size=24,\n",
    "                          figure_title='CloudSat Track',\n",
    "                          rgb_product='True Color',rgb_time='04:30UTC',\n",
    "                          prefix='cloudsat_track_w_truecolor',\n",
    "                          dpi=300, figure_path='cloudsat_fig',save_fig=True)\n"
   ]
  },
  {
   "cell_type": "code",
   "execution_count": null,
   "id": "1590944b-0a40-4724-b19f-24e56c17a53d",
   "metadata": {},
   "outputs": [],
   "source": []
  },
  {
   "cell_type": "code",
   "execution_count": null,
   "id": "baaf26d7-4cad-4df2-a1dd-e9c446a54c04",
   "metadata": {},
   "outputs": [],
   "source": []
  }
 ],
 "metadata": {
  "kernelspec": {
   "display_name": "Python 3 (ipykernel)",
   "language": "python",
   "name": "python3"
  },
  "language_info": {
   "codemirror_mode": {
    "name": "ipython",
    "version": 3
   },
   "file_extension": ".py",
   "mimetype": "text/x-python",
   "name": "python",
   "nbconvert_exporter": "python",
   "pygments_lexer": "ipython3",
   "version": "3.12.5"
  }
 },
 "nbformat": 4,
 "nbformat_minor": 5
}
