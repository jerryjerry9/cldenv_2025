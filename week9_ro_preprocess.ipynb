{
 "cells": [
  {
   "cell_type": "code",
   "execution_count": null,
   "id": "61ce8f90-9225-41ea-81b4-c616b73f9947",
   "metadata": {},
   "outputs": [],
   "source": [
    "import numpy as np\n",
    "from ael_satellite_tools.preprocess import RO\n",
    "from ael_satellite_tools.preprocess import CloudSat\n",
    "from ael_satellite_tools.plotting import Himawari"
   ]
  },
  {
   "cell_type": "code",
   "execution_count": null,
   "id": "764c40c9-797e-41f9-a6a6-639dadec8a6d",
   "metadata": {},
   "outputs": [],
   "source": [
    "lat = [-10, 60]\n",
    "lon = [90, 150]"
   ]
  },
  {
   "cell_type": "code",
   "execution_count": null,
   "id": "8a83c23b-dca6-4531-be1e-4f4cad7b1051",
   "metadata": {},
   "outputs": [],
   "source": [
    "hima_data_path = '/data/cloud2025/temporary_data'\n",
    "hima_plot = Himawari(work_path=[],data_path=hima_data_path,plotting_lat_range=lat,plotting_lon_range=lon)\n",
    "cloudsat = CloudSat(work_path=[],lat_range=lat,lon_range=lon)"
   ]
  },
  {
   "cell_type": "code",
   "execution_count": null,
   "id": "65efedfd-b034-4f72-974f-7175c25679fe",
   "metadata": {},
   "outputs": [],
   "source": [
    "#data_path = '/data/dadm1/obs/RO_profile' \n",
    "ro = RO(work_path=[],lat_range=lat,lon_range=lon)"
   ]
  },
  {
   "cell_type": "code",
   "execution_count": null,
   "id": "90b5d2dd-6724-4074-a274-aaaa930fb79c",
   "metadata": {},
   "outputs": [],
   "source": [
    "ro.ro_information(detail=False)"
   ]
  },
  {
   "cell_type": "code",
   "execution_count": null,
   "id": "8772ba8f-dce8-414e-82b1-00994268847a",
   "metadata": {},
   "outputs": [],
   "source": [
    "### Set searching time period \n",
    "time_period = ['2019110420','2019110516']"
   ]
  },
  {
   "cell_type": "code",
   "execution_count": null,
   "id": "dc33a352-ca44-489c-89a4-5fc8f2596e9c",
   "metadata": {},
   "outputs": [],
   "source": [
    "full_path_file_list = ro.generate_list(time_period,\n",
    "                                       satellite_overlap='both')"
   ]
  },
  {
   "cell_type": "code",
   "execution_count": null,
   "id": "1aae2d2e-c448-4e89-80ba-01d8c2185686",
   "metadata": {},
   "outputs": [],
   "source": [
    "extracted_lon_range = [110, 120]\n",
    "extracted_lat_range = [10, 20]"
   ]
  },
  {
   "cell_type": "code",
   "execution_count": null,
   "id": "4ae6ab19-ea58-4104-aa1a-43eaeaafdb3a",
   "metadata": {},
   "outputs": [],
   "source": [
    "ro_file_list,ro_lon_list,ro_lat_list \\\n",
    "= ro.sub_domain_check(full_path_file_list,extracted_lon_range,extracted_lat_range,lonlat_list=True)"
   ]
  },
  {
   "cell_type": "code",
   "execution_count": null,
   "id": "407663f1-368b-4b33-ba9c-f390f2e1657a",
   "metadata": {},
   "outputs": [],
   "source": [
    "rgb_file = ['']\n",
    "rgb_array,plotting_lon_list,plotting_lat_list,output_file_list  = hima_plot.read_rgb_nc_file(rgb_file)"
   ]
  },
  {
   "cell_type": "code",
   "execution_count": null,
   "id": "7f93bb07-43e7-405a-ae46-b0ef9c437e10",
   "metadata": {},
   "outputs": [],
   "source": [
    "geoprof_file = ''\n",
    "lidar_file = ''"
   ]
  },
  {
   "cell_type": "code",
   "execution_count": null,
   "id": "f54a8c0a-660f-4cd2-b5f2-44493f86ad01",
   "metadata": {},
   "outputs": [],
   "source": [
    "cloudsat_lon_range = [90, 150]\n",
    "cloudsat_lat_range = [-10, 60]"
   ]
  },
  {
   "cell_type": "code",
   "execution_count": null,
   "id": "cada7306-e6bb-44dc-8a69-c88efb7de95c",
   "metadata": {},
   "outputs": [],
   "source": [
    "extracted_geo,extracted_mask_geo = cloudsat.sub_domain_check(geoprof_file,cloudsat_lon_range,cloudsat_lat_range,mask_output=True)\n",
    "extracted_lid,extracted_mask_lid = cloudsat.sub_domain_check(lidar_file,cloudsat_lon_range,cloudsat_lat_range,mask_output=True)\n",
    "extracted_lon = cloudsat.read_vdata(extracted_geo,'Longitude',extracted_mask_geo,fit_era5_lon=True)\n",
    "extracted_lat = cloudsat.read_vdata(extracted_geo,'Latitude',extracted_mask_geo)\n",
    "extracted_hdf_date,extracted_hdf_id,extracted_hdf_granule, \\\n",
    "extracted_region_start_time,extracted_region_end_time \\\n",
    "= cloudsat.read_geometric_info(extracted_geo, extracted_mask_geo)"
   ]
  },
  {
   "cell_type": "code",
   "execution_count": null,
   "id": "b7e8e444-9e8b-4f46-b1c2-2bd17d40b086",
   "metadata": {},
   "outputs": [],
   "source": [
    "ro.plot_ro_distribution(ro_file_list,                                              # RO file list\n",
    "                        rgb_array,plotting_lon_list,plotting_lat_list,             # RGB data\n",
    "                        geoprof_file,                                              # CloudSat data\n",
    "                        extracted_lon,extracted_lat,                               # extracted CloudSat data\n",
    "                        extracted_hdf_date,extracted_hdf_id,extracted_hdf_granule, # extracted CloudSat data\n",
    "                        extracted_region_start_time,extracted_region_end_time,     # extracted CloudSat data\n",
    "                        extracted_lon_range=[],extracted_lat_range=[],             # self-defined plotting domain\n",
    "                        coast_line_color='gold',\n",
    "                        lonlat_c='w',lonlat_width=0.1,lonlat_order=1,lonlat_step=8,font_size=24,\n",
    "                        figure_title='RO distribution',rgb_product='True color',rgb_time='UTC',\n",
    "                        sounding_station=False,prof_num=True,utc_color=True)"
   ]
  },
  {
   "cell_type": "code",
   "execution_count": null,
   "id": "5456a191-ee86-492e-963b-f1452849147a",
   "metadata": {},
   "outputs": [],
   "source": [
    "temp_prof = ro.read_profile(ro_file_list,'Temp')\n",
    "moist_prof = ro.read_profile(ro_file_list,'rh')"
   ]
  },
  {
   "cell_type": "code",
   "execution_count": null,
   "id": "012bcb47-4ccf-4171-b278-baf0b4f32e92",
   "metadata": {},
   "outputs": [],
   "source": [
    "#vertical_prof = ro.read_profile(ro_file_list,'Pres')\n",
    "vertical_prof = ro.read_profile(ro_file_list,'MSL_alt')"
   ]
  },
  {
   "cell_type": "code",
   "execution_count": null,
   "id": "e3c2a78f-acdf-4b94-bb0d-effae3e83acf",
   "metadata": {},
   "outputs": [],
   "source": [
    "prof_num = [11,0,7,8]\n",
    "for i in prof_num:\n",
    "    print(ro_file_list[i])"
   ]
  },
  {
   "cell_type": "code",
   "execution_count": null,
   "id": "502cc13d-9812-43f5-b112-6b39b319a887",
   "metadata": {},
   "outputs": [],
   "source": [
    "ro.plot_ro_profile(ro_file_list,prof_num=prof_num,\n",
    "                   moist_type='rh',height_type='MSL_alt',\n",
    "                   height_range=[0,20], height_step=6,\n",
    "                   prefix='ro_profile', dpi=300, figure_path='ro_fig',save_fig=True)"
   ]
  },
  {
   "cell_type": "code",
   "execution_count": null,
   "id": "993025f4-a7ed-4937-bea0-feab4e4f28d9",
   "metadata": {},
   "outputs": [],
   "source": [
    "sub_plot_num = 2\n",
    "prof_num=4\n",
    "fig, ax1 = plt.subplots(1, sub_plot_num, figsize=(10, 6.8), tight_layout=True)\n",
    "ro.plot_profile_unit(ax1,temp_prof[prof_num],vertical_prof[prof_num],'Temp','RO',\n",
    "                     [0,20],6,\n",
    "                     sub_plot_num=sub_plot_num,plot_num=1,\n",
    "                     linewidth=4,alpha=1)\n",
    "### comparing data\n",
    "ro.plot_profile_unit(ax1,temp_data,vertical_data,'Temp','ERA5',\n",
    "                     sub_plot_num=sub_plot_num,plot_num=1,\n",
    "                     linewidth=4,alpha=0.8,profile_label=True,axis_setting=False)"
   ]
  },
  {
   "cell_type": "code",
   "execution_count": null,
   "id": "da92a2db-5297-4bf9-b06f-2373d4d868c5",
   "metadata": {},
   "outputs": [],
   "source": []
  }
 ],
 "metadata": {
  "kernelspec": {
   "display_name": "Python 3 (ipykernel)",
   "language": "python",
   "name": "python3"
  },
  "language_info": {
   "codemirror_mode": {
    "name": "ipython",
    "version": 3
   },
   "file_extension": ".py",
   "mimetype": "text/x-python",
   "name": "python",
   "nbconvert_exporter": "python",
   "pygments_lexer": "ipython3",
   "version": "3.12.5"
  }
 },
 "nbformat": 4,
 "nbformat_minor": 5
}
