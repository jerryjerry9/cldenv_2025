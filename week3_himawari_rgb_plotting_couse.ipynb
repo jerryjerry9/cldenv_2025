{
 "cells": [
  {
   "cell_type": "code",
   "execution_count": 1052,
   "id": "8a120dff-a031-441d-bf45-fa9bde308874",
   "metadata": {},
   "outputs": [],
   "source": [
    "from ael_satellite_tools.plotting import Himawari"
   ]
  },
  {
   "cell_type": "code",
   "execution_count": 1054,
   "id": "c7424eba-7990-4409-b1cd-0abab62d880e",
   "metadata": {},
   "outputs": [],
   "source": [
    "lat = [-10, 50]\n",
    "lon = [90, 180]\n",
    "data_path = '/data/C.jerryjerry9/hima_download/himawari_data'"
   ]
  },
  {
   "cell_type": "code",
   "execution_count": 1055,
   "id": "cc50d425-2425-4401-ad33-e4a8d9bb91f3",
   "metadata": {},
   "outputs": [],
   "source": [
    "hima_plot = Himawari(data_path=data_path,plotting_lat_range=lat,plotting_lon_range=lon)"
   ]
  },
  {
   "cell_type": "code",
   "execution_count": 1122,
   "id": "ca41d942-89c9-4903-b472-69dbc4ef0a72",
   "metadata": {},
   "outputs": [],
   "source": [
    "### Set download time period -- 1\n",
    "year = ['2023'] # Year: from 2015\n",
    "mon = ['12']    # Month: 01 02 ... 12\n",
    "day = ['22']    # Day: 01 02 ... 30 31\n",
    "hour = ['04']   # Hour: 00 01 ... 23\n",
    "minn = ['00']    # Minute: 00 10 20 30 40 50\n",
    "### Set download time period -- 2\n",
    "time_period = ['201901231200','201901250000']\n",
    "time_delta=['days=0','hours=5','minutes=0']\n",
    "time_period = []\n",
    "time_delta = []\n",
    "# Set band type\n",
    "AHI_band = [1,2,3,4] # 1, 2, 3 ... 16\n",
    "geo = ['sun.azm', 'sun.zth','sat.azm', 'sat.zth']"
   ]
  },
  {
   "cell_type": "code",
   "execution_count": 1123,
   "id": "7e035c22-d3ec-488e-ab66-ae0d7dca305e",
   "metadata": {},
   "outputs": [],
   "source": [
    "time_list = hima_plot.generate_time_list(time_period=time_period,time_delta=time_delta,year=year,mon=mon,day=day,hour=hour,minn=minn)"
   ]
  },
  {
   "cell_type": "code",
   "execution_count": 1124,
   "id": "b8761d0c-7a06-4048-8a0b-ba3045b4b7fe",
   "metadata": {},
   "outputs": [],
   "source": [
    "#print(time_list)"
   ]
  },
  {
   "cell_type": "code",
   "execution_count": 1125,
   "id": "6ce27e75-99e5-49f3-bd24-c1d846e423b0",
   "metadata": {},
   "outputs": [],
   "source": [
    "file_list, full_path_file_list = hima_plot.generate_data_list(time_list=time_list,AHI_band=AHI_band,geo=geo)"
   ]
  },
  {
   "cell_type": "code",
   "execution_count": 1126,
   "id": "9cadb64e-0231-4d21-814f-ad73b7c56683",
   "metadata": {},
   "outputs": [],
   "source": [
    "avaiable_time_list, data_issue_list,data_issue_date = hima_plot.check_data(time_list, file_list, full_path_file_list)\n",
    "#print(avaiable_time_list, data_issue_list,data_issue_date)"
   ]
  },
  {
   "cell_type": "code",
   "execution_count": 1090,
   "id": "87c1b9d9-5286-44c9-af3b-3d97d77e6eb0",
   "metadata": {},
   "outputs": [],
   "source": [
    "file_list, full_path_file_list = hima_plot.generate_data_list(time_list=avaiable_time_list,AHI_band=AHI_band,geo=geo)"
   ]
  },
  {
   "cell_type": "code",
   "execution_count": 1127,
   "id": "729d7870-6519-47be-9e45-eb1a40d4fff4",
   "metadata": {},
   "outputs": [],
   "source": [
    "for file_name in full_path_file_list:\n",
    "    print(file_name)"
   ]
  },
  {
   "cell_type": "code",
   "execution_count": null,
   "id": "f37cd0bd-5da8-43d3-ad03-ba6ee1cf4faa",
   "metadata": {},
   "outputs": [],
   "source": [
    "ta_resolution = 2\n",
    "output_data_list = []\n",
    "output_file_list = []\n",
    "for file_name in full_path_file_list:\n",
    "    nc_data_list,file_lon_list,file_lat_list,read_file_list = \\\n",
    "        hima_plot.read_nc_file(file_name,missing2nan=True)\n",
    "    \n",
    "    fit_data_array_list, plotting_lon, plotting_lat = \\\n",
    "        hima_plot.fit_resolution(nc_data_list,read_file_list,\n",
    "                                 ta_resolution,fit_lonlat_output=True)\n",
    "    output_data_list.append(fit_data_array_list[0])\n",
    "    output_file_list.append(read_file_list[0])"
   ]
  },
  {
   "cell_type": "code",
   "execution_count": 1128,
   "id": "0516a278-4f76-4bdd-8e42-76a228404e26",
   "metadata": {},
   "outputs": [],
   "source": [
    "for i in range(0,len(output_data_list)):\n",
    "    print(output_file_list[i])"
   ]
  },
  {
   "cell_type": "code",
   "execution_count": 1070,
   "id": "818c8298-700c-409e-a717-384da01fe601",
   "metadata": {},
   "outputs": [],
   "source": [
    "band_r = output_data_list[2]\n",
    "band_g = output_data_list[1]\n",
    "band_b = output_data_list[0]\n",
    "band_04 = output_data_list[3]\n",
    "sun_azm = output_data_list[4]\n",
    "sun_zth = output_data_list[5]\n",
    "sat_azm = output_data_list[6]\n",
    "sat_zth = output_data_list[7]"
   ]
  },
  {
   "cell_type": "code",
   "execution_count": null,
   "id": "a11bc043-4a84-4142-b68a-17230478d3ab",
   "metadata": {},
   "outputs": [],
   "source": [
    "angle=78\n",
    "reduce_adjust = False\n",
    "band_rr = hima_plot.local_adjustment(band_r,sun_zth,reduce_adjust_angle=angle,\n",
    "                                     reduce_high_zenith_adjust=reduce_adjust)\n",
    "band_gg = hima_plot.local_adjustment(band_g,sun_zth,reduce_adjust_angle=angle,\n",
    "                                     reduce_high_zenith_adjust=reduce_adjust)\n",
    "band_bb = hima_plot.local_adjustment(band_b,sun_zth,reduce_adjust_angle=angle,\n",
    "                                     reduce_high_zenith_adjust=reduce_adjust)\n",
    "band_04 = hima_plot.local_adjustment(band_04,sun_zth,reduce_adjust_angle=angle,\n",
    "                                     reduce_high_zenith_adjust=reduce_adjust)"
   ]
  },
  {
   "cell_type": "code",
   "execution_count": null,
   "id": "00c3c721-0775-4588-a73e-ba154d3ef557",
   "metadata": {},
   "outputs": [],
   "source": [
    "rs_channel = ['ch3','ch2','ch1'] \n",
    "reduce_corr_angle = 78\n",
    "strength = 1\n",
    "reduce_corr = True\n",
    "corr_band_r = hima_plot.rayleigh_correction(avaiable_time_list, sun_azm, sun_zth, sat_azm, sat_zth, band_rr,\n",
    "                                            rs_channel[0], red_band = band_rr,\n",
    "                                            reduce_corr_angle=reduce_corr_angle, strength=strength, \n",
    "                                            reduce_rayleigh_corr = reduce_corr)\n",
    "corr_band_g = hima_plot.rayleigh_correction(avaiable_time_list, sun_azm, sun_zth, sat_azm, sat_zth, band_gg,\n",
    "                                            rs_channel[1], red_band=band_rr,\n",
    "                                            reduce_corr_angle=reduce_corr_angle, strength=strength, \n",
    "                                            reduce_rayleigh_corr = reduce_corr)\n",
    "corr_band_b = hima_plot.rayleigh_correction(avaiable_time_list, sun_azm, sun_zth, sat_azm, sat_zth, band_bb,\n",
    "                                            rs_channel[2], red_band=band_rr,\n",
    "                                            reduce_corr_angle=reduce_corr_angle, strength=strength, \n",
    "                                            reduce_rayleigh_corr = reduce_corr)"
   ]
  },
  {
   "cell_type": "code",
   "execution_count": null,
   "id": "e57d603c-f6b7-4629-98c7-b3e06606aea5",
   "metadata": {},
   "outputs": [],
   "source": [
    "hybrid_green = hima_plot.hybrid_band(corr_band_g, band_04, data_2_ratio=0.07)\n",
    "\n"
   ]
  },
  {
   "cell_type": "code",
   "execution_count": 1074,
   "id": "33269f94-bcc9-4370-9f3f-dd19fbb96a56",
   "metadata": {},
   "outputs": [],
   "source": [
    "b_rr = corr_band_r\n",
    "b_gg = hybrid_green\n",
    "b_bb = corr_band_b"
   ]
  },
  {
   "cell_type": "code",
   "execution_count": 1129,
   "id": "056ebaf9-6a5b-47d4-97ce-6a658ad4fbc2",
   "metadata": {},
   "outputs": [],
   "source": [
    "min_threshold = [0,0,0]\n",
    "max_threshold = [100,100,100]\n",
    "b_r = hima_plot.rescale_value(b_rr,min_threshold[0],max_threshold[0],reverse=True)\n",
    "b_g = hima_plot.rescale_value(b_gg,min_threshold[1],max_threshold[1])\n",
    "b_b = hima_plot.rescale_value(b_bb,min_threshold[2],max_threshold[2])"
   ]
  },
  {
   "cell_type": "code",
   "execution_count": null,
   "id": "70f37a3f-cd59-46bc-bca3-9fa79946b914",
   "metadata": {},
   "outputs": [],
   "source": [
    "gamma = [1,1,1]\n",
    "profile_ID = 0\n",
    "profile_test = None\n",
    "self_prof= [True,True,True]\n",
    "self_prof= [False,False,False]\n",
    "enh_r = hima_plot.rgb_enhancement(b_r,gamma=gamma[0],profile_ID=profile_ID, \n",
    "                                  self_defined_profile=profile_test, self_defined_enhance=self_prof[0])\n",
    "enh_g = hima_plot.rgb_enhancement(b_g,gamma=gamma[1],profile_ID=profile_ID, \n",
    "                                  self_defined_profile=profile_test, self_defined_enhance=self_prof[1])\n",
    "enh_b = hima_plot.rgb_enhancement(b_b,gamma=gamma[2],profile_ID=profile_ID, \n",
    "                                  self_defined_profile=profile_test, self_defined_enhance=self_prof[2])"
   ]
  },
  {
   "cell_type": "code",
   "execution_count": 1118,
   "id": "6f999d7a-f2b8-4e1a-be41-4b44368379be",
   "metadata": {},
   "outputs": [],
   "source": [
    "rgb_array = hima_plot.rgb_merged(band_red=enh_r,band_green=enh_g,band_blue=enh_b)"
   ]
  },
  {
   "cell_type": "code",
   "execution_count": 1130,
   "id": "924e4886-bb85-4f25-bfe1-843b8ae9176d",
   "metadata": {},
   "outputs": [],
   "source": [
    "rgb_product_name = ['true color']"
   ]
  },
  {
   "cell_type": "code",
   "execution_count": null,
   "id": "67c2207f-0a63-4ded-a623-29e8f1650979",
   "metadata": {},
   "outputs": [],
   "source": [
    "hima_plot.generate_rgb_figure(rgb_array, plotting_lon, plotting_lat,\n",
    "                              figure_name=rgb_product_name, time_list=avaiable_time_list,\n",
    "                              coast_line_color='gold', lonlat_step=4, font_size=22, \n",
    "                              prefix='rgb_figure', dpi=300, save_fig=False)"
   ]
  },
  {
   "cell_type": "code",
   "execution_count": null,
   "id": "ac3fa7b8-0c07-48fb-af5a-b971c21c4810",
   "metadata": {},
   "outputs": [],
   "source": [
    "hima_plot.generate_rgb_nc_file(avaiable_time_list,plotting_lon,plotting_lat,ta_resolution,\n",
    "                               rgb_product_name,'east_asia',rgb_array,nc_output=True)"
   ]
  }
 ],
 "metadata": {
  "kernelspec": {
   "display_name": "Python 3 (ipykernel)",
   "language": "python",
   "name": "python3"
  },
  "language_info": {
   "codemirror_mode": {
    "name": "ipython",
    "version": 3
   },
   "file_extension": ".py",
   "mimetype": "text/x-python",
   "name": "python",
   "nbconvert_exporter": "python",
   "pygments_lexer": "ipython3",
   "version": "3.12.5"
  }
 },
 "nbformat": 4,
 "nbformat_minor": 5
}
